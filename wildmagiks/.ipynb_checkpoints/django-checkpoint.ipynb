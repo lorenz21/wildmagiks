{
 "cells": [
  {
   "cell_type": "markdown",
   "metadata": {},
   "source": [
    "# Setting up your enviornment\n",
    "pip - python manager\n",
    "virtualenv - used to store packages in own environment \n",
    "\n",
    "`pip install virtualenv`\n",
    "\n",
    "Create a virtual enviornment (env - name)\n",
    "Creates a folder and path can be specified\n",
    "\n",
    "`virutalenv env`\n",
    "\n",
    "Install the Django framework\n",
    "\n",
    "`pip install django`\n",
    "\n",
    "## Always be done first\n",
    "Use pythons start script to create a skeleton project\n",
    "\n",
    "`django-admin startproject helloapp` - name is helloapp\n",
    "\n",
    "Creates a file called `manage.py` used to manage the app\n",
    "Folder is also created with project name that has `settings.py` and `urls.py`\n",
    "\n",
    "`urls.py` used for routing\n",
    "`settings.py` used for application settings\n",
    "\n",
    "### Settings.py\n",
    "*Installed apps:*\n",
    "- Django operates on the concept of apps. \n",
    "- An app is a self contained unit of code which can be executed on its own. \n",
    "- An app can do many things such as serve a webpage on the browser or handle user authentication or anything else you can think of. \n",
    "- Django comes with some default apps preinstalled such as the authentication and session manager apps.\n",
    "- Apps that are created or third-party apps we will need will be added at the bottom of the `Installed Apps` list after the default apps installed\n",
    "\n",
    "### Django apps follow the Model, View, Template paradigm. \n",
    "\n",
    "- The app gets data from a model\n",
    "- The view does something to the data\n",
    "- It then renders a template containing the processed information.\n",
    "\n",
    "#### Creating an app\n",
    "`python manage.py startapp howdy` - howdy is the name of the app\n",
    "\n",
    "Newly created app needs to be added to `settings.py`\n",
    "\n",
    "##### Now run your live server to see resutls\n",
    "`python manage.py runserver`\n",
    "\n",
    "#### Migrations and DB's\n",
    "- Migrations will update your database tables to use the new schema \n",
    "- No lost of any data \n",
    "- No having to go through the tedious process of dropping and recreating the database yourself\n",
    "\n",
    "`python manage.py migrate`\n",
    "\n",
    "`models.py` are used to create schemas for databases\n",
    "\n",
    "`urls.py` used to redirect traffic\n",
    "\n"
   ]
  },
  {
   "cell_type": "code",
   "execution_count": null,
   "metadata": {},
   "outputs": [],
   "source": []
  }
 ],
 "metadata": {
  "kernelspec": {
   "display_name": "Python 3",
   "language": "python",
   "name": "python3"
  },
  "language_info": {
   "codemirror_mode": {
    "name": "ipython",
    "version": 3
   },
   "file_extension": ".py",
   "mimetype": "text/x-python",
   "name": "python",
   "nbconvert_exporter": "python",
   "pygments_lexer": "ipython3",
   "version": "3.6.1"
  }
 },
 "nbformat": 4,
 "nbformat_minor": 2
}
